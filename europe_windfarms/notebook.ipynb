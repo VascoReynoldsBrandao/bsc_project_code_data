{
 "cells": [
  {
   "cell_type": "markdown",
   "id": "d8c6aae6",
   "metadata": {},
   "source": [
    "# Environment Setup\n",
    "\n",
    "To run this notebook and scripts, follow these steps:\n",
    "\n",
    "1. **Create a virtual environment:**\n",
    "   ```bash\n",
    "   python3 -m venv venv\n",
    "   source venv/bin/activate\n",
    "   ```\n",
    "2. **Install requirements:**\n",
    "   ```bash\n",
    "   pip install -r requirements.txt\n",
    "   ```\n",
    "3. **Set the environment in Jupyter:**\n",
    "   If using Jupyter, make sure the kernel uses your virtual environment.\n",
    "   ```bash\n",
    "   python -m ipykernel install --user --name=venv\n",
    "   ```\n",
    "   Then select the 'venv' kernel in the notebook interface."
   ]
  },
  {
   "cell_type": "markdown",
   "id": "cec265d7",
   "metadata": {},
   "source": [
    "# Offshore Wind Farm Data Extraction\n",
    "\n",
    "This notebook outlines the scripts used to extract relevant data from an offshore wind farm database. This data was retrieved from `https://emodnet.ec.europa.eu/geoviewer/#` and last updated in 08/2025.\n",
    "\n",
    "## Data Filtering\n",
    "\n",
    "Two filters are applied to the data:\n",
    "\n",
    "- **Status:** Only wind farms with `status = production` are included.\n",
    "- **Turbines:** Only wind farms with more than 1 turbine (`turbines > 1`) are included.\n",
    "\n",
    "The filtered data is saved as a CSV file for further analysis."
   ]
  },
  {
   "cell_type": "code",
   "execution_count": null,
   "id": "5a3b4d24",
   "metadata": {},
   "outputs": [],
   "source": [
    "import pandas as pd\n",
    "import json\n",
    "\n",
    "# Load and normalize the wind farm data from JSON\n",
    "with open('windfarms.json', 'r') as f:\n",
    "    data = json.load(f)\n",
    "\n",
    "df = pd.json_normalize(data['features'])\n",
    "\n",
    "df[['geometry.coordinates.longitude', 'geometry.coordinates.latitude']] = pd.DataFrame(df['geometry.coordin\\\n",
    "ates'].tolist(), index=df.index)\n",
    "\n",
    "# Apply filters: status = 'production' and n_turbines > 1\n",
    "df_relevant = df[(df['properties.status'] == 'Production') & (df['properties.n_turbines'] > 1)].copy()\n",
    "\n",
    "# Drop irrelevant columns\n",
    "df_relevant = df_relevant.drop(columns=[\n",
    "    'type',\n",
    "    'id',\n",
    "    'geometry_name',\n",
    "    'geometry.type',\n",
    "    'geometry.coordinates',\n",
    "    'properties.notes',\n",
    "])\n",
    "\n",
    "# Sort the columns\n",
    "df = df[sorted(df.columns)]\n",
    "\n",
    "# Save the filtered dataframe to CSV\n",
    "df_relevant.to_csv('windfarms_relevant.csv', index=False)"
   ]
  },
  {
   "cell_type": "markdown",
   "id": "46b1eb90",
   "metadata": {},
   "source": [
    "# Extended Database Creation\n",
    "\n",
    "The database created above (`windfarms_relevant.csv`) was used in the following prompt to generate extended CSV files. These extended files include the names of the wind farms and the organizations (vendors and operators) involved. The results can be found under the `operators_vendors/` directory.\n",
    "\n",
    "The prompt was provided along with `windfarms_relevant.csv` to the following models:\n",
    "\n",
    "- Deepseek: DeepSeek-V3\n",
    "- Perplexity: Default Best Selection inbuilt which chooses depending on the prompt\n",
    "- ChatGPT: ChatGPT 5\n",
    "\n",
    "[Research mode was enabled in all prompts]\n",
    "\n",
    "## Prompts Used\n",
    "\n",
    "### DeepSeek\n",
    "```\n",
    "Below is a csv with all commercially operational offshore wind farms in europe which are relevant to me. Get me the name of all the operator and vendor organisations involved for each farm. Use the information in the csv in your research. Don't get back to me until its done. Make sure to include more than one vendor or operator where appropriate (which might be referenced in the modat magnify given data).  Compile all the information and give me a csv with everything.\n",
    "```\n",
    "### ChatGPT\n",
    "```\n",
    "Below is a csv with all commercially operational offshore wind farms in europe which are relevant to me. Get me the name of all the operator and vendor organisations involved for each farm. Use the information in the csv in your research. Don't get back to me until its done. Make sure to include more than one vendor or operator where appropriate (which might be referenced in the modat magnify given data)\n",
    "```\n",
    "\n",
    "### Perplexity\n",
    "```\n",
    "Below is a csv with all commercially operational offshore wind farms in europe which are relevant to me. Get me the name of all the operator and vendor organisations involved for each farm. Use the information in the csv in your research. Don't get back to me until its done. Make sure to include more than one vendor or operator where appropriate (which might be referenced in the modat magnify given data).  Compile all the information and give me a csv with everything.\n",
    "```"
   ]
  }
 ],
 "metadata": {
  "language_info": {
   "name": "python"
  }
 },
 "nbformat": 4,
 "nbformat_minor": 5
}
